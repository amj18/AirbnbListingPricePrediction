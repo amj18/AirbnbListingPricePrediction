{
 "cells": [
  {
   "cell_type": "code",
   "execution_count": 44,
   "metadata": {},
   "outputs": [],
   "source": [
    "import pandas as pd\n",
    "import numpy as np\n",
    "import os\n",
    "from scipy import stats\n",
    "import matplotlib.pyplot as plt\n",
    "import seaborn as sns\n",
    "import warnings\n",
    "from statsmodels.stats.outliers_influence import variance_inflation_factor\n",
    "from sklearn.preprocessing import StandardScaler\n",
    "from sklearn.model_selection import train_test_split\n",
    "from sklearn.linear_model import LinearRegression\n",
    "from sklearn.metrics import r2_score, mean_squared_error\n",
    "import statsmodels.api as sm\n",
    "from sklearn.preprocessing import PowerTransformer\n",
    "from sklearn.model_selection  import learning_curve\n",
    "from sklearn.model_selection  import KFold\n",
    "\n",
    "%matplotlib inline\n",
    "warnings.filterwarnings(\"ignore\")\n",
    "\n",
    "pd.set_option('display.max_rows', 100)\n",
    "pd.options.display.max_seq_items = 100"
   ]
  },
  {
   "cell_type": "code",
   "execution_count": 4,
   "metadata": {},
   "outputs": [],
   "source": [
    "curr_dir = os.getcwd()\n",
    "data_path = os.path.join(curr_dir, \"datasets\", \"listings_engineered.csv\")\n",
    "df = pd.read_csv(data_path)"
   ]
  },
  {
   "cell_type": "markdown",
   "metadata": {},
   "source": [
    "### Separate one hot encoded features from standardized features as we will implement different transformations later"
   ]
  },
  {
   "cell_type": "code",
   "execution_count": 6,
   "metadata": {},
   "outputs": [],
   "source": [
    "ohe = df[['price', 'no pets', 'no friends',\n",
    "       'no parties', 'no smoking', 'room_type_Private room',\n",
    "       'room_type_Shared room', 'property_type_Apartment',\n",
    "       'property_type_Barn', 'property_type_Bed and breakfast',\n",
    "       'property_type_Boat', 'property_type_Boutique hotel',\n",
    "       'property_type_Bungalow', 'property_type_Bus', 'property_type_Cabin',\n",
    "       'property_type_Camper/RV', 'property_type_Campsite',\n",
    "       'property_type_Casa particular (Cuba)', 'property_type_Chalet',\n",
    "       'property_type_Condominium', 'property_type_Cottage',\n",
    "       'property_type_Dome house', 'property_type_Earth house',\n",
    "       'property_type_Farm stay', 'property_type_Guest suite',\n",
    "       'property_type_Guesthouse', 'property_type_Hostel',\n",
    "       'property_type_Hotel', 'property_type_House', 'property_type_Houseboat',\n",
    "       'property_type_Hut', 'property_type_Island', 'property_type_Lighthouse',\n",
    "       'property_type_Loft', 'property_type_Nature lodge',\n",
    "       'property_type_Other', 'property_type_Parking Space',\n",
    "       'property_type_Plane', 'property_type_Ryokan (Japan)',\n",
    "       'property_type_Serviced apartment', 'property_type_Tent',\n",
    "       'property_type_Tiny house', 'property_type_Townhouse',\n",
    "       'property_type_Treehouse', 'property_type_Villa', 'property_type_Yurt',\n",
    "       'bed_type_Couch', 'bed_type_Futon', 'bed_type_Pull-out Sofa',\n",
    "       'bed_type_Real Bed', 'neighbourhood_cleansed_Barnet',\n",
    "       'neighbourhood_cleansed_Bexley', 'neighbourhood_cleansed_Brent',\n",
    "       'neighbourhood_cleansed_Bromley', 'neighbourhood_cleansed_Camden',\n",
    "       'neighbourhood_cleansed_City of London',\n",
    "       'neighbourhood_cleansed_Croydon', 'neighbourhood_cleansed_Ealing',\n",
    "       'neighbourhood_cleansed_Enfield', 'neighbourhood_cleansed_Greenwich',\n",
    "       'neighbourhood_cleansed_Hackney',\n",
    "       'neighbourhood_cleansed_Hammersmith and Fulham',\n",
    "       'neighbourhood_cleansed_Haringey', 'neighbourhood_cleansed_Harrow',\n",
    "       'neighbourhood_cleansed_Havering', 'neighbourhood_cleansed_Hillingdon',\n",
    "       'neighbourhood_cleansed_Hounslow', 'neighbourhood_cleansed_Islington',\n",
    "       'neighbourhood_cleansed_Kensington and Chelsea',\n",
    "       'neighbourhood_cleansed_Kingston upon Thames',\n",
    "       'neighbourhood_cleansed_Lambeth', 'neighbourhood_cleansed_Lewisham',\n",
    "       'neighbourhood_cleansed_Merton', 'neighbourhood_cleansed_Newham',\n",
    "       'neighbourhood_cleansed_Redbridge',\n",
    "       'neighbourhood_cleansed_Richmond upon Thames',\n",
    "       'neighbourhood_cleansed_Southwark', 'neighbourhood_cleansed_Sutton',\n",
    "       'neighbourhood_cleansed_Tower Hamlets',\n",
    "       'neighbourhood_cleansed_Waltham Forest',\n",
    "       'neighbourhood_cleansed_Wandsworth',\n",
    "       'neighbourhood_cleansed_Westminster']]\n",
    "\n",
    "scaled = df[['accommodates', 'bathrooms', 'bedrooms', 'beds','number_of_reviews',\n",
    "       'security_deposit', 'cleaning_fee', 'dist_to_bigben', 'dist_to_bigben_transformed',\n",
    "       'minimum_nights', 'maximum_nights']]"
   ]
  },
  {
   "cell_type": "markdown",
   "metadata": {},
   "source": [
    "### Standardise the data to have mean = 0 and standard deviation of 1"
   ]
  },
  {
   "cell_type": "code",
   "execution_count": 7,
   "metadata": {},
   "outputs": [],
   "source": [
    "scaler = StandardScaler()\n",
    "scaler = scaler.fit(scaled)\n",
    "standardized_features_df = pd.DataFrame(scaler.transform(scaled), columns=scaled.columns)"
   ]
  },
  {
   "cell_type": "code",
   "execution_count": 8,
   "metadata": {},
   "outputs": [],
   "source": [
    "X = pd.concat([ohe, standardized_features_df], axis=1)\n",
    "y = df[\"price\"]"
   ]
  },
  {
   "cell_type": "code",
   "execution_count": 161,
   "metadata": {},
   "outputs": [],
   "source": [
    "from sklearn.linear_model import SGDRegressor\n",
    "\n",
    "\n",
    "def SGDR_model():\n",
    "    \"\"\"\n",
    "    Stochastic Gradient Descent Regression Model which generally is\n",
    "    supposed to be faster on larger datasets >10^5. Our dataset size\n",
    "    is close to 10^5.\n",
    "    \n",
    "    Returns model object with initial hyperparameters.\n",
    "    \"\"\"\n",
    "    print(\"SGD Regression\")\n",
    "    lr = SGDRegressor(alpha=0.8, \n",
    "                      penalty=\"l1\",\n",
    "                      max_iter=10000,\n",
    "                      random_state=42)    \n",
    "    return lr\n",
    "\n",
    "def build_and_train_model(X, y, func):\n",
    "    \"\"\"\n",
    "    Generalised model builder and trainer which outputs\n",
    "    various parameters related to model parameters, \n",
    "    accuracy and errors metrics.\n",
    "    \"\"\"\n",
    "    fn = func()\n",
    "    X_train, X_test, y_train, y_test = \\\n",
    "        train_test_split(X.drop(\"price\", axis=1), y, test_size=0.2, random_state=42)    \n",
    "    model = fn.fit(X_train, y_train)\n",
    "    score = model.score(X_train, y_train)\n",
    "    print(\"Training Score:\", score)\n",
    "    y_pred = model.predict(X_test)\n",
    "    r_score = r2_score(y_test, y_pred)\n",
    "    print(\"Testing Score:\", r_score)\n",
    "    rmse = np.sqrt(mean_squared_error(y_test, y_pred))\n",
    "    print(\"RMSE:\", rmse)\n",
    "    return {\"model\" : model,\n",
    "            \"params\" : model.get_params(),\n",
    "            \"y_pred\" : y_pred,\n",
    "            \"train_score\" : score,\n",
    "            \"test_score\" : r2_score,\n",
    "            \"rmse\" : rmse}   "
   ]
  },
  {
   "cell_type": "code",
   "execution_count": 13,
   "metadata": {},
   "outputs": [
    {
     "name": "stdout",
     "output_type": "stream",
     "text": [
      "SGD Regression\n",
      "Training Score: 0.4384946457731433\n",
      "Testing Score: 0.41821772630583065\n",
      "RMSE: 79.06633715327847\n",
      "Wall time: 762 ms\n"
     ]
    }
   ],
   "source": [
    "%%time\n",
    "lr = build_and_train_model(X, y, SGDR_model)"
   ]
  },
  {
   "cell_type": "markdown",
   "metadata": {},
   "source": [
    "Immediately we can see that this engineered model outperforms the baseline model implemented in the FeatureEngineering notebook (RMSE: 87.87)."
   ]
  },
  {
   "cell_type": "code",
   "execution_count": 159,
   "metadata": {},
   "outputs": [],
   "source": [
    "def ols_stats_models(X, y):\n",
    "    \"\"\"\n",
    "    Fit train and test data using OLS model from\n",
    "    stats models package.\n",
    "    \"\"\"\n",
    "    X_train, X_test, y_train, y_test = \\\n",
    "        train_test_split(X.drop(\"price\", axis=1), y, test_size=0.2, random_state=42)  \n",
    "    X_train = sm.add_constant(X_train)\n",
    "    X_test = sm.add_constant(X_test)\n",
    "    model = sm.OLS(y_train, X_train).fit()\n",
    "    y_pred = model.predict(X_test)\n",
    "    return {\"summary\" : model.summary(),\n",
    "            \"y_test\" : y_test,\n",
    "            \"y_pred\" : y_pred}"
   ]
  },
  {
   "cell_type": "code",
   "execution_count": 15,
   "metadata": {},
   "outputs": [
    {
     "name": "stdout",
     "output_type": "stream",
     "text": [
      "Wall time: 834 ms\n"
     ]
    }
   ],
   "source": [
    "%%time\n",
    "ols = ols_stats_models(X, y)"
   ]
  },
  {
   "cell_type": "code",
   "execution_count": 16,
   "metadata": {},
   "outputs": [
    {
     "data": {
      "image/png": "[encoded data removed]",
      "text/plain": [
       "<Figure size 432x288 with 1 Axes>"
      ]
     },
     "metadata": {
      "needs_background": "light"
     },
     "output_type": "display_data"
    }
   ],
   "source": [
    "plt.scatter(ols[\"y_pred\"], ols[\"y_test\"], color=\"k\", alpha=0.1)\n",
    "plt.xlabel(\"y_test\")\n",
    "plt.ylabel(\"y_pred\")\n",
    "plt.show()"
   ]
  },
  {
   "cell_type": "markdown",
   "metadata": {},
   "source": [
    "It is interesting to note that y_pred has a very large negative outlier, skewing the results, otherwise there does seem to be a decent positive correlation between y_pred and y_test examining by eye."
   ]
  },
  {
   "cell_type": "markdown",
   "metadata": {},
   "source": [
    "**Results of OLS regression using stats models. Features with P values <= 0.05 are significant.**\n",
    "\n",
    "However note that that the OLS using stats models does not implement regularization hence R^2\n",
    "will be different to the implementation with scikit-learn."
   ]
  },
  {
   "cell_type": "code",
   "execution_count": 17,
   "metadata": {
    "scrolled": false
   },
   "outputs": [
    {
     "data": {
      "text/html": [
       "<table class=\"simpletable\">\n",
       "<caption>OLS Regression Results</caption>\n",
       "<tr>\n",
       "  <th>Dep. Variable:</th>          <td>price</td>      <th>  R-squared:         </th>  <td>   0.462</td>  \n",
       "</tr>\n",
       "<tr>\n",
       "  <th>Model:</th>                   <td>OLS</td>       <th>  Adj. R-squared:    </th>  <td>   0.461</td>  \n",
       "</tr>\n",
       "<tr>\n",
       "  <th>Method:</th>             <td>Least Squares</td>  <th>  F-statistic:       </th>  <td>   624.9</td>  \n",
       "</tr>\n",
       "<tr>\n",
       "  <th>Date:</th>             <td>Sun, 01 Dec 2019</td> <th>  Prob (F-statistic):</th>   <td>  0.00</td>   \n",
       "</tr>\n",
       "<tr>\n",
       "  <th>Time:</th>                 <td>23:02:55</td>     <th>  Log-Likelihood:    </th> <td>-3.8654e+05</td>\n",
       "</tr>\n",
       "<tr>\n",
       "  <th>No. Observations:</th>      <td> 67080</td>      <th>  AIC:               </th>  <td>7.733e+05</td> \n",
       "</tr>\n",
       "<tr>\n",
       "  <th>Df Residuals:</th>          <td> 66987</td>      <th>  BIC:               </th>  <td>7.741e+05</td> \n",
       "</tr>\n",
       "<tr>\n",
       "  <th>Df Model:</th>              <td>    92</td>      <th>                     </th>      <td> </td>     \n",
       "</tr>\n",
       "<tr>\n",
       "  <th>Covariance Type:</th>      <td>nonrobust</td>    <th>                     </th>      <td> </td>     \n",
       "</tr>\n",
       "</table>\n",
       "<table class=\"simpletable\">\n",
       "<tr>\n",
       "                        <td></td>                           <th>coef</th>     <th>std err</th>      <th>t</th>      <th>P>|t|</th>  <th>[0.025</th>    <th>0.975]</th>  \n",
       "</tr>\n",
       "<tr>\n",
       "  <th>const</th>                                         <td>   94.6751</td> <td>   18.138</td> <td>    5.220</td> <td> 0.000</td> <td>   59.125</td> <td>  130.226</td>\n",
       "</tr>\n",
       "<tr>\n",
       "  <th>no pets</th>                                       <td>    8.5978</td> <td>    1.458</td> <td>    5.899</td> <td> 0.000</td> <td>    5.741</td> <td>   11.455</td>\n",
       "</tr>\n",
       "<tr>\n",
       "  <th>no friends</th>                                    <td>    4.7029</td> <td>   10.050</td> <td>    0.468</td> <td> 0.640</td> <td>  -14.996</td> <td>   24.402</td>\n",
       "</tr>\n",
       "<tr>\n",
       "  <th>no parties</th>                                    <td>    3.1572</td> <td>    1.059</td> <td>    2.980</td> <td> 0.003</td> <td>    1.081</td> <td>    5.234</td>\n",
       "</tr>\n",
       "<tr>\n",
       "  <th>no smoking</th>                                    <td>   -9.8946</td> <td>    0.992</td> <td>   -9.973</td> <td> 0.000</td> <td>  -11.839</td> <td>   -7.950</td>\n",
       "</tr>\n",
       "<tr>\n",
       "  <th>room_type_Private room</th>                        <td>  -36.2838</td> <td>    0.823</td> <td>  -44.094</td> <td> 0.000</td> <td>  -37.897</td> <td>  -34.671</td>\n",
       "</tr>\n",
       "<tr>\n",
       "  <th>room_type_Shared room</th>                         <td>  -57.6592</td> <td>    3.533</td> <td>  -16.319</td> <td> 0.000</td> <td>  -64.585</td> <td>  -50.734</td>\n",
       "</tr>\n",
       "<tr>\n",
       "  <th>property_type_Apartment</th>                       <td>  -28.7207</td> <td>   11.632</td> <td>   -2.469</td> <td> 0.014</td> <td>  -51.519</td> <td>   -5.922</td>\n",
       "</tr>\n",
       "<tr>\n",
       "  <th>property_type_Barn</th>                            <td>   20.3607</td> <td>   27.009</td> <td>    0.754</td> <td> 0.451</td> <td>  -32.577</td> <td>   73.298</td>\n",
       "</tr>\n",
       "<tr>\n",
       "  <th>property_type_Bed and breakfast</th>               <td>   -6.0356</td> <td>   11.990</td> <td>   -0.503</td> <td> 0.615</td> <td>  -29.536</td> <td>   17.465</td>\n",
       "</tr>\n",
       "<tr>\n",
       "  <th>property_type_Boat</th>                            <td>  -18.6665</td> <td>   16.447</td> <td>   -1.135</td> <td> 0.256</td> <td>  -50.903</td> <td>   13.570</td>\n",
       "</tr>\n",
       "<tr>\n",
       "  <th>property_type_Boutique hotel</th>                  <td>   50.1496</td> <td>   12.953</td> <td>    3.872</td> <td> 0.000</td> <td>   24.762</td> <td>   75.537</td>\n",
       "</tr>\n",
       "<tr>\n",
       "  <th>property_type_Bungalow</th>                        <td>  -16.5887</td> <td>   14.003</td> <td>   -1.185</td> <td> 0.236</td> <td>  -44.035</td> <td>   10.858</td>\n",
       "</tr>\n",
       "<tr>\n",
       "  <th>property_type_Bus</th>                             <td>  -75.0168</td> <td>   55.742</td> <td>   -1.346</td> <td> 0.178</td> <td> -184.270</td> <td>   34.237</td>\n",
       "</tr>\n",
       "<tr>\n",
       "  <th>property_type_Cabin</th>                           <td>  -22.3256</td> <td>   22.508</td> <td>   -0.992</td> <td> 0.321</td> <td>  -66.442</td> <td>   21.790</td>\n",
       "</tr>\n",
       "<tr>\n",
       "  <th>property_type_Camper/RV</th>                       <td>  -16.3048</td> <td>   25.987</td> <td>   -0.627</td> <td> 0.530</td> <td>  -67.240</td> <td>   34.630</td>\n",
       "</tr>\n",
       "<tr>\n",
       "  <th>property_type_Campsite</th>                        <td>  -66.5451</td> <td>   55.708</td> <td>   -1.195</td> <td> 0.232</td> <td> -175.732</td> <td>   42.642</td>\n",
       "</tr>\n",
       "<tr>\n",
       "  <th>property_type_Casa particular (Cuba)</th>          <td>  -19.4865</td> <td>   22.505</td> <td>   -0.866</td> <td> 0.387</td> <td>  -63.597</td> <td>   24.623</td>\n",
       "</tr>\n",
       "<tr>\n",
       "  <th>property_type_Chalet</th>                          <td>  -22.1154</td> <td>   25.995</td> <td>   -0.851</td> <td> 0.395</td> <td>  -73.066</td> <td>   28.835</td>\n",
       "</tr>\n",
       "<tr>\n",
       "  <th>property_type_Condominium</th>                     <td>  -22.7113</td> <td>   11.911</td> <td>   -1.907</td> <td> 0.057</td> <td>  -46.056</td> <td>    0.634</td>\n",
       "</tr>\n",
       "<tr>\n",
       "  <th>property_type_Cottage</th>                         <td>  -24.9930</td> <td>   15.151</td> <td>   -1.650</td> <td> 0.099</td> <td>  -54.688</td> <td>    4.702</td>\n",
       "</tr>\n",
       "<tr>\n",
       "  <th>property_type_Dome house</th>                      <td>  -64.2474</td> <td>   46.008</td> <td>   -1.396</td> <td> 0.163</td> <td> -154.423</td> <td>   25.928</td>\n",
       "</tr>\n",
       "<tr>\n",
       "  <th>property_type_Earth house</th>                     <td>  -33.3238</td> <td>   28.207</td> <td>   -1.181</td> <td> 0.237</td> <td>  -88.610</td> <td>   21.963</td>\n",
       "</tr>\n",
       "<tr>\n",
       "  <th>property_type_Farm stay</th>                       <td>  -12.0278</td> <td>   45.991</td> <td>   -0.262</td> <td> 0.794</td> <td> -102.171</td> <td>   78.115</td>\n",
       "</tr>\n",
       "<tr>\n",
       "  <th>property_type_Guest suite</th>                     <td>  -19.8036</td> <td>   12.492</td> <td>   -1.585</td> <td> 0.113</td> <td>  -44.288</td> <td>    4.680</td>\n",
       "</tr>\n",
       "<tr>\n",
       "  <th>property_type_Guesthouse</th>                      <td>   11.5600</td> <td>   12.691</td> <td>    0.911</td> <td> 0.362</td> <td>  -13.314</td> <td>   36.434</td>\n",
       "</tr>\n",
       "<tr>\n",
       "  <th>property_type_Hostel</th>                          <td>  -48.2563</td> <td>   13.199</td> <td>   -3.656</td> <td> 0.000</td> <td>  -74.126</td> <td>  -22.386</td>\n",
       "</tr>\n",
       "<tr>\n",
       "  <th>property_type_Hotel</th>                           <td>   43.1922</td> <td>   13.643</td> <td>    3.166</td> <td> 0.002</td> <td>   16.452</td> <td>   69.932</td>\n",
       "</tr>\n",
       "<tr>\n",
       "  <th>property_type_House</th>                           <td>  -24.9786</td> <td>   11.655</td> <td>   -2.143</td> <td> 0.032</td> <td>  -47.822</td> <td>   -2.136</td>\n",
       "</tr>\n",
       "<tr>\n",
       "  <th>property_type_Houseboat</th>                       <td>    1.4620</td> <td>   20.792</td> <td>    0.070</td> <td> 0.944</td> <td>  -39.290</td> <td>   42.214</td>\n",
       "</tr>\n",
       "<tr>\n",
       "  <th>property_type_Hut</th>                             <td>  -16.6788</td> <td>   31.371</td> <td>   -0.532</td> <td> 0.595</td> <td>  -78.166</td> <td>   44.809</td>\n",
       "</tr>\n",
       "<tr>\n",
       "  <th>property_type_Island</th>                          <td>  -72.8102</td> <td>   77.912</td> <td>   -0.935</td> <td> 0.350</td> <td> -225.519</td> <td>   79.898</td>\n",
       "</tr>\n",
       "<tr>\n",
       "  <th>property_type_Lighthouse</th>                      <td>    6.5727</td> <td>   77.951</td> <td>    0.084</td> <td> 0.933</td> <td> -146.211</td> <td>  159.357</td>\n",
       "</tr>\n",
       "<tr>\n",
       "  <th>property_type_Loft</th>                            <td>  -15.0232</td> <td>   12.062</td> <td>   -1.246</td> <td> 0.213</td> <td>  -38.664</td> <td>    8.618</td>\n",
       "</tr>\n",
       "<tr>\n",
       "  <th>property_type_Nature lodge</th>                    <td>  127.3767</td> <td>   55.725</td> <td>    2.286</td> <td> 0.022</td> <td>   18.156</td> <td>  236.597</td>\n",
       "</tr>\n",
       "<tr>\n",
       "  <th>property_type_Other</th>                           <td>  -25.4371</td> <td>   13.000</td> <td>   -1.957</td> <td> 0.050</td> <td>  -50.917</td> <td>    0.042</td>\n",
       "</tr>\n",
       "<tr>\n",
       "  <th>property_type_Parking Space</th>                   <td>  -19.7522</td> <td>   77.920</td> <td>   -0.253</td> <td> 0.800</td> <td> -172.475</td> <td>  132.971</td>\n",
       "</tr>\n",
       "<tr>\n",
       "  <th>property_type_Plane</th>                           <td>  120.0177</td> <td>   78.018</td> <td>    1.538</td> <td> 0.124</td> <td>  -32.898</td> <td>  272.933</td>\n",
       "</tr>\n",
       "<tr>\n",
       "  <th>property_type_Ryokan (Japan)</th>                  <td>  -47.1190</td> <td>   77.913</td> <td>   -0.605</td> <td> 0.545</td> <td> -199.828</td> <td>  105.590</td>\n",
       "</tr>\n",
       "<tr>\n",
       "  <th>property_type_Serviced apartment</th>              <td>    7.0972</td> <td>   11.791</td> <td>    0.602</td> <td> 0.547</td> <td>  -16.014</td> <td>   30.208</td>\n",
       "</tr>\n",
       "<tr>\n",
       "  <th>property_type_Tent</th>                            <td>  -29.5237</td> <td>   55.701</td> <td>   -0.530</td> <td> 0.596</td> <td> -138.698</td> <td>   79.650</td>\n",
       "</tr>\n",
       "<tr>\n",
       "  <th>property_type_Tiny house</th>                      <td>  -26.7911</td> <td>   17.460</td> <td>   -1.534</td> <td> 0.125</td> <td>  -61.014</td> <td>    7.431</td>\n",
       "</tr>\n",
       "<tr>\n",
       "  <th>property_type_Townhouse</th>                       <td>  -26.4033</td> <td>   11.745</td> <td>   -2.248</td> <td> 0.025</td> <td>  -49.424</td> <td>   -3.382</td>\n",
       "</tr>\n",
       "<tr>\n",
       "  <th>property_type_Treehouse</th>                       <td>  -65.8773</td> <td>   55.739</td> <td>   -1.182</td> <td> 0.237</td> <td> -175.126</td> <td>   43.372</td>\n",
       "</tr>\n",
       "<tr>\n",
       "  <th>property_type_Villa</th>                           <td>  -19.3991</td> <td>   15.957</td> <td>   -1.216</td> <td> 0.224</td> <td>  -50.675</td> <td>   11.876</td>\n",
       "</tr>\n",
       "<tr>\n",
       "  <th>property_type_Yurt</th>                            <td>   24.0752</td> <td>   40.252</td> <td>    0.598</td> <td> 0.550</td> <td>  -54.819</td> <td>  102.969</td>\n",
       "</tr>\n",
       "<tr>\n",
       "  <th>bed_type_Couch</th>                                <td>  -14.4307</td> <td>   16.643</td> <td>   -0.867</td> <td> 0.386</td> <td>  -47.052</td> <td>   18.190</td>\n",
       "</tr>\n",
       "<tr>\n",
       "  <th>bed_type_Futon</th>                                <td>   -9.8497</td> <td>   14.253</td> <td>   -0.691</td> <td> 0.490</td> <td>  -37.786</td> <td>   18.087</td>\n",
       "</tr>\n",
       "<tr>\n",
       "  <th>bed_type_Pull-out Sofa</th>                        <td>   -9.9159</td> <td>   13.518</td> <td>   -0.734</td> <td> 0.463</td> <td>  -36.412</td> <td>   16.580</td>\n",
       "</tr>\n",
       "<tr>\n",
       "  <th>bed_type_Real Bed</th>                             <td>   -3.6164</td> <td>   12.854</td> <td>   -0.281</td> <td> 0.778</td> <td>  -28.810</td> <td>   21.577</td>\n",
       "</tr>\n",
       "<tr>\n",
       "  <th>neighbourhood_cleansed_Barnet</th>                 <td>   54.5604</td> <td>    6.410</td> <td>    8.512</td> <td> 0.000</td> <td>   41.998</td> <td>   67.123</td>\n",
       "</tr>\n",
       "<tr>\n",
       "  <th>neighbourhood_cleansed_Bexley</th>                 <td>    1.2301</td> <td>    7.456</td> <td>    0.165</td> <td> 0.869</td> <td>  -13.384</td> <td>   15.844</td>\n",
       "</tr>\n",
       "<tr>\n",
       "  <th>neighbourhood_cleansed_Brent</th>                  <td>   61.1913</td> <td>    6.293</td> <td>    9.723</td> <td> 0.000</td> <td>   48.856</td> <td>   73.526</td>\n",
       "</tr>\n",
       "<tr>\n",
       "  <th>neighbourhood_cleansed_Bromley</th>                <td>   15.9370</td> <td>    6.099</td> <td>    2.613</td> <td> 0.009</td> <td>    3.984</td> <td>   27.890</td>\n",
       "</tr>\n",
       "<tr>\n",
       "  <th>neighbourhood_cleansed_Camden</th>                 <td>   82.1696</td> <td>    5.569</td> <td>   14.754</td> <td> 0.000</td> <td>   71.254</td> <td>   93.086</td>\n",
       "</tr>\n",
       "<tr>\n",
       "  <th>neighbourhood_cleansed_City of London</th>         <td>   97.7277</td> <td>    6.552</td> <td>   14.917</td> <td> 0.000</td> <td>   84.886</td> <td>  110.569</td>\n",
       "</tr>\n",
       "<tr>\n",
       "  <th>neighbourhood_cleansed_Croydon</th>                <td>   36.8994</td> <td>    6.099</td> <td>    6.050</td> <td> 0.000</td> <td>   24.946</td> <td>   48.853</td>\n",
       "</tr>\n",
       "<tr>\n",
       "  <th>neighbourhood_cleansed_Ealing</th>                 <td>   65.8805</td> <td>    6.793</td> <td>    9.699</td> <td> 0.000</td> <td>   52.567</td> <td>   79.194</td>\n",
       "</tr>\n",
       "<tr>\n",
       "  <th>neighbourhood_cleansed_Enfield</th>                <td>   41.3601</td> <td>    6.546</td> <td>    6.318</td> <td> 0.000</td> <td>   28.529</td> <td>   54.191</td>\n",
       "</tr>\n",
       "<tr>\n",
       "  <th>neighbourhood_cleansed_Greenwich</th>              <td>   10.9455</td> <td>    5.256</td> <td>    2.082</td> <td> 0.037</td> <td>    0.644</td> <td>   21.247</td>\n",
       "</tr>\n",
       "<tr>\n",
       "  <th>neighbourhood_cleansed_Hackney</th>                <td>   35.5402</td> <td>    5.255</td> <td>    6.763</td> <td> 0.000</td> <td>   25.241</td> <td>   45.840</td>\n",
       "</tr>\n",
       "<tr>\n",
       "  <th>neighbourhood_cleansed_Hammersmith and Fulham</th> <td>   70.7338</td> <td>    6.013</td> <td>   11.763</td> <td> 0.000</td> <td>   58.948</td> <td>   82.520</td>\n",
       "</tr>\n",
       "<tr>\n",
       "  <th>neighbourhood_cleansed_Haringey</th>               <td>   37.1722</td> <td>    5.699</td> <td>    6.523</td> <td> 0.000</td> <td>   26.003</td> <td>   48.342</td>\n",
       "</tr>\n",
       "<tr>\n",
       "  <th>neighbourhood_cleansed_Harrow</th>                 <td>   76.8121</td> <td>    7.960</td> <td>    9.650</td> <td> 0.000</td> <td>   61.211</td> <td>   92.414</td>\n",
       "</tr>\n",
       "<tr>\n",
       "  <th>neighbourhood_cleansed_Havering</th>               <td>   14.6562</td> <td>    7.497</td> <td>    1.955</td> <td> 0.051</td> <td>   -0.039</td> <td>   29.351</td>\n",
       "</tr>\n",
       "<tr>\n",
       "  <th>neighbourhood_cleansed_Hillingdon</th>             <td>   95.2483</td> <td>    8.546</td> <td>   11.146</td> <td> 0.000</td> <td>   78.499</td> <td>  111.998</td>\n",
       "</tr>\n",
       "<tr>\n",
       "  <th>neighbourhood_cleansed_Hounslow</th>               <td>   81.0632</td> <td>    7.210</td> <td>   11.242</td> <td> 0.000</td> <td>   66.931</td> <td>   95.196</td>\n",
       "</tr>\n",
       "<tr>\n",
       "  <th>neighbourhood_cleansed_Islington</th>              <td>   54.6892</td> <td>    5.437</td> <td>   10.059</td> <td> 0.000</td> <td>   44.033</td> <td>   65.345</td>\n",
       "</tr>\n",
       "<tr>\n",
       "  <th>neighbourhood_cleansed_Kensington and Chelsea</th> <td>  118.7740</td> <td>    5.807</td> <td>   20.454</td> <td> 0.000</td> <td>  107.392</td> <td>  130.156</td>\n",
       "</tr>\n",
       "<tr>\n",
       "  <th>neighbourhood_cleansed_Kingston upon Thames</th>   <td>   71.6931</td> <td>    7.556</td> <td>    9.489</td> <td> 0.000</td> <td>   56.884</td> <td>   86.502</td>\n",
       "</tr>\n",
       "<tr>\n",
       "  <th>neighbourhood_cleansed_Lambeth</th>                <td>   47.8650</td> <td>    5.479</td> <td>    8.736</td> <td> 0.000</td> <td>   37.126</td> <td>   58.604</td>\n",
       "</tr>\n",
       "<tr>\n",
       "  <th>neighbourhood_cleansed_Lewisham</th>               <td>   22.1909</td> <td>    5.288</td> <td>    4.197</td> <td> 0.000</td> <td>   11.827</td> <td>   32.554</td>\n",
       "</tr>\n",
       "<tr>\n",
       "  <th>neighbourhood_cleansed_Merton</th>                 <td>   71.6482</td> <td>    6.317</td> <td>   11.342</td> <td> 0.000</td> <td>   59.267</td> <td>   84.029</td>\n",
       "</tr>\n",
       "<tr>\n",
       "  <th>neighbourhood_cleansed_Newham</th>                 <td>   27.8101</td> <td>    5.211</td> <td>    5.337</td> <td> 0.000</td> <td>   17.597</td> <td>   38.023</td>\n",
       "</tr>\n",
       "<tr>\n",
       "  <th>neighbourhood_cleansed_Redbridge</th>              <td>   12.9768</td> <td>    5.894</td> <td>    2.202</td> <td> 0.028</td> <td>    1.425</td> <td>   24.529</td>\n",
       "</tr>\n",
       "<tr>\n",
       "  <th>neighbourhood_cleansed_Richmond upon Thames</th>   <td>   93.7673</td> <td>    7.072</td> <td>   13.258</td> <td> 0.000</td> <td>   79.905</td> <td>  107.629</td>\n",
       "</tr>\n",
       "<tr>\n",
       "  <th>neighbourhood_cleansed_Southwark</th>              <td>   43.8087</td> <td>    5.282</td> <td>    8.295</td> <td> 0.000</td> <td>   33.457</td> <td>   54.160</td>\n",
       "</tr>\n",
       "<tr>\n",
       "  <th>neighbourhood_cleansed_Sutton</th>                 <td>   50.6139</td> <td>    7.968</td> <td>    6.352</td> <td> 0.000</td> <td>   34.997</td> <td>   66.231</td>\n",
       "</tr>\n",
       "<tr>\n",
       "  <th>neighbourhood_cleansed_Tower Hamlets</th>          <td>   34.7491</td> <td>    5.101</td> <td>    6.813</td> <td> 0.000</td> <td>   24.752</td> <td>   44.747</td>\n",
       "</tr>\n",
       "<tr>\n",
       "  <th>neighbourhood_cleansed_Waltham Forest</th>         <td>   12.9237</td> <td>    5.527</td> <td>    2.338</td> <td> 0.019</td> <td>    2.092</td> <td>   23.756</td>\n",
       "</tr>\n",
       "<tr>\n",
       "  <th>neighbourhood_cleansed_Wandsworth</th>             <td>   64.2600</td> <td>    5.808</td> <td>   11.064</td> <td> 0.000</td> <td>   52.876</td> <td>   75.644</td>\n",
       "</tr>\n",
       "<tr>\n",
       "  <th>neighbourhood_cleansed_Westminster</th>            <td>  113.7808</td> <td>    5.599</td> <td>   20.323</td> <td> 0.000</td> <td>  102.808</td> <td>  124.754</td>\n",
       "</tr>\n",
       "<tr>\n",
       "  <th>accommodates</th>                                  <td>   20.3977</td> <td>    0.628</td> <td>   32.469</td> <td> 0.000</td> <td>   19.166</td> <td>   21.629</td>\n",
       "</tr>\n",
       "<tr>\n",
       "  <th>bathrooms</th>                                     <td>   13.7458</td> <td>    0.385</td> <td>   35.744</td> <td> 0.000</td> <td>   12.992</td> <td>   14.500</td>\n",
       "</tr>\n",
       "<tr>\n",
       "  <th>bedrooms</th>                                      <td>   17.9367</td> <td>    0.535</td> <td>   33.514</td> <td> 0.000</td> <td>   16.888</td> <td>   18.986</td>\n",
       "</tr>\n",
       "<tr>\n",
       "  <th>beds</th>                                          <td>   -5.6657</td> <td>    0.548</td> <td>  -10.341</td> <td> 0.000</td> <td>   -6.740</td> <td>   -4.592</td>\n",
       "</tr>\n",
       "<tr>\n",
       "  <th>number_of_reviews</th>                             <td>   -5.5622</td> <td>    0.308</td> <td>  -18.040</td> <td> 0.000</td> <td>   -6.167</td> <td>   -4.958</td>\n",
       "</tr>\n",
       "<tr>\n",
       "  <th>security_deposit</th>                              <td>    3.4695</td> <td>    0.344</td> <td>   10.088</td> <td> 0.000</td> <td>    2.795</td> <td>    4.144</td>\n",
       "</tr>\n",
       "<tr>\n",
       "  <th>cleaning_fee</th>                                  <td>   11.2369</td> <td>    0.411</td> <td>   27.369</td> <td> 0.000</td> <td>   10.432</td> <td>   12.042</td>\n",
       "</tr>\n",
       "<tr>\n",
       "  <th>dist_to_bigben</th>                                <td>  -17.8113</td> <td>    1.120</td> <td>  -15.898</td> <td> 0.000</td> <td>  -20.007</td> <td>  -15.615</td>\n",
       "</tr>\n",
       "<tr>\n",
       "  <th>dist_to_bigben_transformed</th>                    <td>    3.6389</td> <td>    0.418</td> <td>    8.715</td> <td> 0.000</td> <td>    2.821</td> <td>    4.457</td>\n",
       "</tr>\n",
       "<tr>\n",
       "  <th>minimum_nights</th>                                <td>   -1.0599</td> <td>    0.306</td> <td>   -3.464</td> <td> 0.001</td> <td>   -1.660</td> <td>   -0.460</td>\n",
       "</tr>\n",
       "<tr>\n",
       "  <th>maximum_nights</th>                                <td>   -4.4842</td> <td>   19.834</td> <td>   -0.226</td> <td> 0.821</td> <td>  -43.358</td> <td>   34.390</td>\n",
       "</tr>\n",
       "</table>\n",
       "<table class=\"simpletable\">\n",
       "<tr>\n",
       "  <th>Omnibus:</th>       <td>52576.912</td> <th>  Durbin-Watson:     </th>  <td>   2.003</td>  \n",
       "</tr>\n",
       "<tr>\n",
       "  <th>Prob(Omnibus):</th>  <td> 0.000</td>   <th>  Jarque-Bera (JB):  </th> <td>2055650.888</td>\n",
       "</tr>\n",
       "<tr>\n",
       "  <th>Skew:</th>           <td> 3.460</td>   <th>  Prob(JB):          </th>  <td>    0.00</td>  \n",
       "</tr>\n",
       "<tr>\n",
       "  <th>Kurtosis:</th>       <td>29.222</td>   <th>  Cond. No.          </th>  <td>    572.</td>  \n",
       "</tr>\n",
       "</table><br/><br/>Warnings:<br/>[1] Standard Errors assume that the covariance matrix of the errors is correctly specified."
      ],
      "text/plain": [
       "<class 'statsmodels.iolib.summary.Summary'>\n",
       "\"\"\"\n",
       "                            OLS Regression Results                            \n",
       "==============================================================================\n",
       "Dep. Variable:                  price   R-squared:                       0.462\n",
       "Model:                            OLS   Adj. R-squared:                  0.461\n",
       "Method:                 Least Squares   F-statistic:                     624.9\n",
       "Date:                Sun, 01 Dec 2019   Prob (F-statistic):               0.00\n",
       "Time:                        23:02:55   Log-Likelihood:            -3.8654e+05\n",
       "No. Observations:               67080   AIC:                         7.733e+05\n",
       "Df Residuals:                   66987   BIC:                         7.741e+05\n",
       "Df Model:                          92                                         \n",
       "Covariance Type:            nonrobust                                         \n",
       "=================================================================================================================\n",
       "                                                    coef    std err          t      P>|t|      [0.025      0.975]\n",
       "-----------------------------------------------------------------------------------------------------------------\n",
       "const                                            94.6751     18.138      5.220      0.000      59.125     130.226\n",
       "no pets                                           8.5978      1.458      5.899      0.000       5.741      11.455\n",
       "no friends                                        4.7029     10.050      0.468      0.640     -14.996      24.402\n",
       "no parties                                        3.1572      1.059      2.980      0.003       1.081       5.234\n",
       "no smoking                                       -9.8946      0.992     -9.973      0.000     -11.839      -7.950\n",
       "room_type_Private room                          -36.2838      0.823    -44.094      0.000     -37.897     -34.671\n",
       "room_type_Shared room                           -57.6592      3.533    -16.319      0.000     -64.585     -50.734\n",
       "property_type_Apartment                         -28.7207     11.632     -2.469      0.014     -51.519      -5.922\n",
       "property_type_Barn                               20.3607     27.009      0.754      0.451     -32.577      73.298\n",
       "property_type_Bed and breakfast                  -6.0356     11.990     -0.503      0.615     -29.536      17.465\n",
       "property_type_Boat                              -18.6665     16.447     -1.135      0.256     -50.903      13.570\n",
       "property_type_Boutique hotel                     50.1496     12.953      3.872      0.000      24.762      75.537\n",
       "property_type_Bungalow                          -16.5887     14.003     -1.185      0.236     -44.035      10.858\n",
       "property_type_Bus                               -75.0168     55.742     -1.346      0.178    -184.270      34.237\n",
       "property_type_Cabin                             -22.3256     22.508     -0.992      0.321     -66.442      21.790\n",
       "property_type_Camper/RV                         -16.3048     25.987     -0.627      0.530     -67.240      34.630\n",
       "property_type_Campsite                          -66.5451     55.708     -1.195      0.232    -175.732      42.642\n",
       "property_type_Casa particular (Cuba)            -19.4865     22.505     -0.866      0.387     -63.597      24.623\n",
       "property_type_Chalet                            -22.1154     25.995     -0.851      0.395     -73.066      28.835\n",
       "property_type_Condominium                       -22.7113     11.911     -1.907      0.057     -46.056       0.634\n",
       "property_type_Cottage                           -24.9930     15.151     -1.650      0.099     -54.688       4.702\n",
       "property_type_Dome house                        -64.2474     46.008     -1.396      0.163    -154.423      25.928\n",
       "property_type_Earth house                       -33.3238     28.207     -1.181      0.237     -88.610      21.963\n",
       "property_type_Farm stay                         -12.0278     45.991     -0.262      0.794    -102.171      78.115\n",
       "property_type_Guest suite                       -19.8036     12.492     -1.585      0.113     -44.288       4.680\n",
       "property_type_Guesthouse                         11.5600     12.691      0.911      0.362     -13.314      36.434\n",
       "property_type_Hostel                            -48.2563     13.199     -3.656      0.000     -74.126     -22.386\n",
       "property_type_Hotel                              43.1922     13.643      3.166      0.002      16.452      69.932\n",
       "property_type_House                             -24.9786     11.655     -2.143      0.032     -47.822      -2.136\n",
       "property_type_Houseboat                           1.4620     20.792      0.070      0.944     -39.290      42.214\n",
       "property_type_Hut                               -16.6788     31.371     -0.532      0.595     -78.166      44.809\n",
       "property_type_Island                            -72.8102     77.912     -0.935      0.350    -225.519      79.898\n",
       "property_type_Lighthouse                          6.5727     77.951      0.084      0.933    -146.211     159.357\n",
       "property_type_Loft                              -15.0232     12.062     -1.246      0.213     -38.664       8.618\n",
       "property_type_Nature lodge                      127.3767     55.725      2.286      0.022      18.156     236.597\n",
       "property_type_Other                             -25.4371     13.000     -1.957      0.050     -50.917       0.042\n",
       "property_type_Parking Space                     -19.7522     77.920     -0.253      0.800    -172.475     132.971\n",
       "property_type_Plane                             120.0177     78.018      1.538      0.124     -32.898     272.933\n",
       "property_type_Ryokan (Japan)                    -47.1190     77.913     -0.605      0.545    -199.828     105.590\n",
       "property_type_Serviced apartment                  7.0972     11.791      0.602      0.547     -16.014      30.208\n",
       "property_type_Tent                              -29.5237     55.701     -0.530      0.596    -138.698      79.650\n",
       "property_type_Tiny house                        -26.7911     17.460     -1.534      0.125     -61.014       7.431\n",
       "property_type_Townhouse                         -26.4033     11.745     -2.248      0.025     -49.424      -3.382\n",
       "property_type_Treehouse                         -65.8773     55.739     -1.182      0.237    -175.126      43.372\n",
       "property_type_Villa                             -19.3991     15.957     -1.216      0.224     -50.675      11.876\n",
       "property_type_Yurt                               24.0752     40.252      0.598      0.550     -54.819     102.969\n",
       "bed_type_Couch                                  -14.4307     16.643     -0.867      0.386     -47.052      18.190\n",
       "bed_type_Futon                                   -9.8497     14.253     -0.691      0.490     -37.786      18.087\n",
       "bed_type_Pull-out Sofa                           -9.9159     13.518     -0.734      0.463     -36.412      16.580\n",
       "bed_type_Real Bed                                -3.6164     12.854     -0.281      0.778     -28.810      21.577\n",
       "neighbourhood_cleansed_Barnet                    54.5604      6.410      8.512      0.000      41.998      67.123\n",
       "neighbourhood_cleansed_Bexley                     1.2301      7.456      0.165      0.869     -13.384      15.844\n",
       "neighbourhood_cleansed_Brent                     61.1913      6.293      9.723      0.000      48.856      73.526\n",
       "neighbourhood_cleansed_Bromley                   15.9370      6.099      2.613      0.009       3.984      27.890\n",
       "neighbourhood_cleansed_Camden                    82.1696      5.569     14.754      0.000      71.254      93.086\n",
       "neighbourhood_cleansed_City of London            97.7277      6.552     14.917      0.000      84.886     110.569\n",
       "neighbourhood_cleansed_Croydon                   36.8994      6.099      6.050      0.000      24.946      48.853\n",
       "neighbourhood_cleansed_Ealing                    65.8805      6.793      9.699      0.000      52.567      79.194\n",
       "neighbourhood_cleansed_Enfield                   41.3601      6.546      6.318      0.000      28.529      54.191\n",
       "neighbourhood_cleansed_Greenwich                 10.9455      5.256      2.082      0.037       0.644      21.247\n",
       "neighbourhood_cleansed_Hackney                   35.5402      5.255      6.763      0.000      25.241      45.840\n",
       "neighbourhood_cleansed_Hammersmith and Fulham    70.7338      6.013     11.763      0.000      58.948      82.520\n",
       "neighbourhood_cleansed_Haringey                  37.1722      5.699      6.523      0.000      26.003      48.342\n",
       "neighbourhood_cleansed_Harrow                    76.8121      7.960      9.650      0.000      61.211      92.414\n",
       "neighbourhood_cleansed_Havering                  14.6562      7.497      1.955      0.051      -0.039      29.351\n",
       "neighbourhood_cleansed_Hillingdon                95.2483      8.546     11.146      0.000      78.499     111.998\n",
       "neighbourhood_cleansed_Hounslow                  81.0632      7.210     11.242      0.000      66.931      95.196\n",
       "neighbourhood_cleansed_Islington                 54.6892      5.437     10.059      0.000      44.033      65.345\n",
       "neighbourhood_cleansed_Kensington and Chelsea   118.7740      5.807     20.454      0.000     107.392     130.156\n",
       "neighbourhood_cleansed_Kingston upon Thames      71.6931      7.556      9.489      0.000      56.884      86.502\n",
       "neighbourhood_cleansed_Lambeth                   47.8650      5.479      8.736      0.000      37.126      58.604\n",
       "neighbourhood_cleansed_Lewisham                  22.1909      5.288      4.197      0.000      11.827      32.554\n",
       "neighbourhood_cleansed_Merton                    71.6482      6.317     11.342      0.000      59.267      84.029\n",
       "neighbourhood_cleansed_Newham                    27.8101      5.211      5.337      0.000      17.597      38.023\n",
       "neighbourhood_cleansed_Redbridge                 12.9768      5.894      2.202      0.028       1.425      24.529\n",
       "neighbourhood_cleansed_Richmond upon Thames      93.7673      7.072     13.258      0.000      79.905     107.629\n",
       "neighbourhood_cleansed_Southwark                 43.8087      5.282      8.295      0.000      33.457      54.160\n",
       "neighbourhood_cleansed_Sutton                    50.6139      7.968      6.352      0.000      34.997      66.231\n",
       "neighbourhood_cleansed_Tower Hamlets             34.7491      5.101      6.813      0.000      24.752      44.747\n",
       "neighbourhood_cleansed_Waltham Forest            12.9237      5.527      2.338      0.019       2.092      23.756\n",
       "neighbourhood_cleansed_Wandsworth                64.2600      5.808     11.064      0.000      52.876      75.644\n",
       "neighbourhood_cleansed_Westminster              113.7808      5.599     20.323      0.000     102.808     124.754\n",
       "accommodates                                     20.3977      0.628     32.469      0.000      19.166      21.629\n",
       "bathrooms                                        13.7458      0.385     35.744      0.000      12.992      14.500\n",
       "bedrooms                                         17.9367      0.535     33.514      0.000      16.888      18.986\n",
       "beds                                             -5.6657      0.548    -10.341      0.000      -6.740      -4.592\n",
       "number_of_reviews                                -5.5622      0.308    -18.040      0.000      -6.167      -4.958\n",
       "security_deposit                                  3.4695      0.344     10.088      0.000       2.795       4.144\n",
       "cleaning_fee                                     11.2369      0.411     27.369      0.000      10.432      12.042\n",
       "dist_to_bigben                                  -17.8113      1.120    -15.898      0.000     -20.007     -15.615\n",
       "dist_to_bigben_transformed                        3.6389      0.418      8.715      0.000       2.821       4.457\n",
       "minimum_nights                                   -1.0599      0.306     -3.464      0.001      -1.660      -0.460\n",
       "maximum_nights                                   -4.4842     19.834     -0.226      0.821     -43.358      34.390\n",
       "==============================================================================\n",
       "Omnibus:                    52576.912   Durbin-Watson:                   2.003\n",
       "Prob(Omnibus):                  0.000   Jarque-Bera (JB):          2055650.888\n",
       "Skew:                           3.460   Prob(JB):                         0.00\n",
       "Kurtosis:                      29.222   Cond. No.                         572.\n",
       "==============================================================================\n",
       "\n",
       "Warnings:\n",
       "[1] Standard Errors assume that the covariance matrix of the errors is correctly specified.\n",
       "\"\"\""
      ]
     },
     "execution_count": 17,
     "metadata": {},
     "output_type": "execute_result"
    }
   ],
   "source": [
    "ols[\"summary\"]"
   ]
  },
  {
   "cell_type": "code",
   "execution_count": 154,
   "metadata": {},
   "outputs": [],
   "source": [
    "def plot_learning_curves(X, y, model, name):\n",
    "    \"\"\"\n",
    "    Compares the training and validation scores of an estimator\n",
    "    model for varying training sample size. It gives insight into the \n",
    "    estimator's variance and bias error, and whether increasing\n",
    "    training size is beneficial or not.\n",
    "    \"\"\"\n",
    "    \n",
    "    X = X.drop(\"price\", axis=1)\n",
    "    cv = KFold(5, shuffle=True)\n",
    "    model.fit(X, y)\n",
    "    train_sizes, train_scores, test_scores = learning_curve(model, \n",
    "                                                            X, \n",
    "                                                            y, \n",
    "                                                            n_jobs=-1, \n",
    "                                                            cv=cv, \n",
    "                                                            train_sizes=[0.1, 0.2, 0.4, 0.8], \n",
    "                                                            verbose=0)\n",
    "    train_scores_mean = np.mean(train_scores, axis=1)\n",
    "    train_scores_std = np.std(train_scores, axis=1)\n",
    "    test_scores_mean = np.mean(test_scores, axis=1)\n",
    "    test_scores_std = np.std(test_scores, axis=1)\n",
    "    \n",
    "    plt.figure(figsize=(8, 7))\n",
    "    plt.title(name)\n",
    "    plt.legend(loc=\"best\")\n",
    "    plt.xlabel(\"Training examples\")\n",
    "    plt.ylabel(\"Score\")\n",
    "    plt.gca().invert_yaxis()\n",
    "    \n",
    "    plt.grid()\n",
    "    \n",
    "    # plot the std deviation as a transparent range at each training set size\n",
    "    plt.fill_between(train_sizes, train_scores_mean - train_scores_std, train_scores_mean + train_scores_std, alpha=0.1, color=\"r\")\n",
    "    plt.fill_between(train_sizes, test_scores_mean - test_scores_std, test_scores_mean + test_scores_std, alpha=0.1, color=\"g\")\n",
    "    \n",
    "    # plot the average training and test score lines at each training set size\n",
    "    plt.plot(train_sizes, train_scores_mean, 'o-', color=\"r\", label=\"Training score\")\n",
    "    plt.plot(train_sizes, test_scores_mean, 'o-', color=\"g\", label=\"Cross-validation score\")\n",
    "    \n",
    "    # sizes the window for readability and displays the plot\n",
    "    # shows error from 0 to 1.1\n",
    "    plt.ylim(-0.1, 1.1)\n",
    "    plt.legend(loc=\"best\")\n",
    "    plt.show()"
   ]
  },
  {
   "cell_type": "code",
   "execution_count": 28,
   "metadata": {},
   "outputs": [
    {
     "name": "stderr",
     "output_type": "stream",
     "text": [
      "No handles with labels found to put in legend.\n"
     ]
    },
    {
     "data": {
      "image/png": "[encoded data removed]",
      "text/plain": [
       "<Figure size 576x504 with 1 Axes>"
      ]
     },
     "metadata": {
      "needs_background": "light"
     },
     "output_type": "display_data"
    },
    {
     "name": "stdout",
     "output_type": "stream",
     "text": [
      "Wall time: 4.15 s\n"
     ]
    }
   ],
   "source": [
    "%%time\n",
    "sgdr = SGDRegressor(alpha=0.8, \n",
    "                    penalty=\"l1\",\n",
    "                    max_iter=1000,\n",
    "                    random_state=42)\n",
    "\n",
    "plot_learning_curves(X, y, sgdr, \n",
    "                     \"SGD Regression Model\")"
   ]
  },
  {
   "cell_type": "markdown",
   "metadata": {},
   "source": [
    "This simple SGD Regression model outperforms the baseline with low variance and bias with increasing training sample size."
   ]
  },
  {
   "cell_type": "markdown",
   "metadata": {},
   "source": [
    "## Calculating VIF score for multicollinearity detection\n",
    "\n",
    "Variance inflation factor measures how much the variance of an estimated regression coefficient increases if features are correlated. Generally, if VIF > 5-10 = high multicollinearity."
   ]
  },
  {
   "cell_type": "code",
   "execution_count": 30,
   "metadata": {},
   "outputs": [
    {
     "name": "stdout",
     "output_type": "stream",
     "text": [
      "Wall time: 2min 9s\n"
     ]
    }
   ],
   "source": [
    "%%time\n",
    "vif = pd.DataFrame()\n",
    "vif[\"features\"] = X.columns\n",
    "vif[\"VIF Factor\"] = [variance_inflation_factor(X.values, i) for i in range(X.shape[1])]"
   ]
  },
  {
   "cell_type": "code",
   "execution_count": 153,
   "metadata": {},
   "outputs": [
    {
     "data": {
      "text/html": [
       "<div>\n",
       "<style scoped>\n",
       "    .dataframe tbody tr th:only-of-type {\n",
       "        vertical-align: middle;\n",
       "    }\n",
       "\n",
       "    .dataframe tbody tr th {\n",
       "        vertical-align: top;\n",
       "    }\n",
       "\n",
       "    .dataframe thead th {\n",
       "        text-align: right;\n",
       "    }\n",
       "</style>\n",
       "<table border=\"1\" class=\"dataframe\">\n",
       "  <thead>\n",
       "    <tr style=\"text-align: right;\">\n",
       "      <th></th>\n",
       "      <th>features</th>\n",
       "      <th>VIF Factor</th>\n",
       "    </tr>\n",
       "  </thead>\n",
       "  <tbody>\n",
       "    <tr>\n",
       "      <th>92</th>\n",
       "      <td>maximum_nights</td>\n",
       "      <td>1.00</td>\n",
       "    </tr>\n",
       "    <tr>\n",
       "      <th>2</th>\n",
       "      <td>no friends</td>\n",
       "      <td>1.00</td>\n",
       "    </tr>\n",
       "    <tr>\n",
       "      <th>37</th>\n",
       "      <td>property_type_Plane</td>\n",
       "      <td>1.01</td>\n",
       "    </tr>\n",
       "    <tr>\n",
       "      <th>32</th>\n",
       "      <td>property_type_Lighthouse</td>\n",
       "      <td>1.01</td>\n",
       "    </tr>\n",
       "    <tr>\n",
       "      <th>31</th>\n",
       "      <td>property_type_Island</td>\n",
       "      <td>1.01</td>\n",
       "    </tr>\n",
       "    <tr>\n",
       "      <th>38</th>\n",
       "      <td>property_type_Ryokan (Japan)</td>\n",
       "      <td>1.01</td>\n",
       "    </tr>\n",
       "    <tr>\n",
       "      <th>91</th>\n",
       "      <td>minimum_nights</td>\n",
       "      <td>1.01</td>\n",
       "    </tr>\n",
       "    <tr>\n",
       "      <th>36</th>\n",
       "      <td>property_type_Parking Space</td>\n",
       "      <td>1.01</td>\n",
       "    </tr>\n",
       "    <tr>\n",
       "      <th>40</th>\n",
       "      <td>property_type_Tent</td>\n",
       "      <td>1.02</td>\n",
       "    </tr>\n",
       "    <tr>\n",
       "      <th>43</th>\n",
       "      <td>property_type_Treehouse</td>\n",
       "      <td>1.02</td>\n",
       "    </tr>\n",
       "  </tbody>\n",
       "</table>\n",
       "</div>"
      ],
      "text/plain": [
       "                        features  VIF Factor\n",
       "92                maximum_nights        1.00\n",
       "2                     no friends        1.00\n",
       "37           property_type_Plane        1.01\n",
       "32      property_type_Lighthouse        1.01\n",
       "31          property_type_Island        1.01\n",
       "38  property_type_Ryokan (Japan)        1.01\n",
       "91                minimum_nights        1.01\n",
       "36   property_type_Parking Space        1.01\n",
       "40            property_type_Tent        1.02\n",
       "43       property_type_Treehouse        1.02"
      ]
     },
     "execution_count": 153,
     "metadata": {},
     "output_type": "execute_result"
    }
   ],
   "source": [
    "feature_cols = vif[vif[\"VIF Factor\"] < 10.0][\"features\"].values\n",
    "vif.round(2).sort_values(\"VIF Factor\").head(10)"
   ]
  },
  {
   "cell_type": "code",
   "execution_count": 36,
   "metadata": {},
   "outputs": [],
   "source": [
    "X_vif_adj = X[feature_cols]"
   ]
  },
  {
   "cell_type": "code",
   "execution_count": 38,
   "metadata": {},
   "outputs": [
    {
     "name": "stdout",
     "output_type": "stream",
     "text": [
      "SGD Regression\n",
      "Training Score: 0.39763906118348175\n",
      "Testing Score: 0.3767215226680942\n",
      "RMSE: 81.83751676657187\n",
      "Wall time: 625 ms\n"
     ]
    }
   ],
   "source": [
    "%%time\n",
    "lr = build_and_train_model(X_vif_adj, y, SGDR_model)"
   ]
  },
  {
   "cell_type": "code",
   "execution_count": 39,
   "metadata": {},
   "outputs": [],
   "source": [
    "Q1 = X_vif_adj.quantile(0.25)\n",
    "Q3 = X_vif_adj.quantile(0.75)\n",
    "IQR = Q3 - Q1\n",
    "outliers_removed = X_vif_adj[~((X_vif_adj < (Q1 - 1.5 * IQR))\\\n",
    "                           |(X_vif_adj > (Q3 + 1.5 * IQR))).any(axis=1)]"
   ]
  },
  {
   "cell_type": "code",
   "execution_count": 41,
   "metadata": {},
   "outputs": [
    {
     "name": "stdout",
     "output_type": "stream",
     "text": [
      "SGD Regression\n",
      "Training Score: 0.49403862009992316\n",
      "Testing Score: 0.4860543659812506\n",
      "RMSE: 36.875325301775845\n",
      "Wall time: 245 ms\n"
     ]
    }
   ],
   "source": [
    "%%time\n",
    "lr = build_and_train_model(outliers_removed, outliers_removed[\"price\"], SGDR_model)"
   ]
  },
  {
   "cell_type": "code",
   "execution_count": 42,
   "metadata": {},
   "outputs": [
    {
     "name": "stderr",
     "output_type": "stream",
     "text": [
      "WARNING:matplotlib.legend:No handles with labels found to put in legend.\n"
     ]
    },
    {
     "data": {
      "image/png": "[encoded data removed]",
      "text/plain": [
       "<Figure size 576x504 with 1 Axes>"
      ]
     },
     "metadata": {
      "needs_background": "light"
     },
     "output_type": "display_data"
    },
    {
     "name": "stdout",
     "output_type": "stream",
     "text": [
      "Wall time: 2.82 s\n"
     ]
    }
   ],
   "source": [
    "%%time\n",
    "plot_learning_curves(outliers_removed, \n",
    "                     outliers_removed[\"price\"],\n",
    "                     sgdr, \n",
    "                     \"SGD Regression Model\")"
   ]
  },
  {
   "cell_type": "markdown",
   "metadata": {},
   "source": [
    "Removing outliers, certainly seems to increase the R^2 score and reduces the RMSE considerably.There also seems to be an increase in variance as the gap between training and validation scores has increased slightly at low training size. The training score decreases with increasing training size around 10000 samples indicating large train sizes are not beneficial."
   ]
  },
  {
   "cell_type": "markdown",
   "metadata": {},
   "source": [
    "### Transformations of non-normal data"
   ]
  },
  {
   "cell_type": "markdown",
   "metadata": {},
   "source": [
    "Shapiro-Wilk test: Checks if a random sample comes from a normal distribution"
   ]
  },
  {
   "cell_type": "code",
   "execution_count": 149,
   "metadata": {},
   "outputs": [
    {
     "data": {
      "text/plain": [
       "dist_to_bigben                5.101615e-08\n",
       "dist_to_bigben_transformed    5.024754e-22\n",
       "accommodates                  6.921308e-31\n",
       "bedrooms                      1.369261e-36\n",
       "beds                          3.383509e-38\n",
       "cleaning_fee                  9.193465e-39\n",
       "security_deposit              2.622096e-39\n",
       "bathrooms                     3.812933e-42\n",
       "number_of_reviews             9.809089e-45\n",
       "maximum_nights                0.000000e+00\n",
       "minimum_nights                0.000000e+00\n",
       "dtype: float64"
      ]
     },
     "execution_count": 149,
     "metadata": {},
     "output_type": "execute_result"
    }
   ],
   "source": [
    "from sklearn.preprocessing import QuantileTransformer\n",
    "\n",
    "def check_normality(series):\n",
    "    \"\"\"\n",
    "    Uses the Shapiro-Wilk test to check if a random sample\n",
    "    is normal (the null hypothesis) at the 95% confidence\n",
    "    level. If the p-value is < 0.05, reject H0 and assume\n",
    "    the distribution is non-normal.\n",
    "\n",
    "    \"\"\"\n",
    "    np.random.seed(1)\n",
    "    sample_size = 1000\n",
    "    series = np.random.choice(series, sample_size)\n",
    "    return stats.shapiro(series)[1]\n",
    "    \n",
    "scaled.agg(check_normality).sort_values(ascending=False)"
   ]
  },
  {
   "cell_type": "markdown",
   "metadata": {},
   "source": [
    "Near zero p-values indicates most of the scaled features are non-normal. In order to transform to a normal distribution, we will use the Yeo-johnson transformation as it supports both positive and negative data (as opposed to the Box-cox transformation)"
   ]
  },
  {
   "cell_type": "code",
   "execution_count": 46,
   "metadata": {},
   "outputs": [],
   "source": [
    "power_transformer = PowerTransformer(method=\"yeo-johnson\")\n",
    "scaled_transformed = power_transformer.fit(scaled).transform(scaled)\n",
    "scaled_transformed_df = pd.DataFrame(scaled_transformed, columns=scaled.columns)"
   ]
  },
  {
   "cell_type": "code",
   "execution_count": 47,
   "metadata": {},
   "outputs": [
    {
     "data": {
      "text/plain": [
       "dist_to_bigben                4.169357e-06\n",
       "dist_to_bigben_transformed    3.358915e-14\n",
       "number_of_reviews             1.834858e-22\n",
       "accommodates                  2.879717e-24\n",
       "minimum_nights                5.582785e-27\n",
       "cleaning_fee                  5.416386e-27\n",
       "beds                          7.824247e-33\n",
       "bedrooms                      1.962552e-34\n",
       "maximum_nights                3.355761e-38\n",
       "security_deposit              7.821992e-40\n",
       "bathrooms                     2.385290e-41\n",
       "dtype: float64"
      ]
     },
     "execution_count": 47,
     "metadata": {},
     "output_type": "execute_result"
    }
   ],
   "source": [
    "scaled_transformed_df.agg(check_normality).sort_values(ascending=False)"
   ]
  },
  {
   "cell_type": "code",
   "execution_count": 50,
   "metadata": {},
   "outputs": [],
   "source": [
    "# Pairplot takes too long to load\n",
    "# sns.pairplot(scaled_transformed_df)\n",
    "# plt.show()"
   ]
  },
  {
   "cell_type": "code",
   "execution_count": 48,
   "metadata": {},
   "outputs": [],
   "source": [
    "quantile_transformer = QuantileTransformer(output_distribution=\"normal\")\n",
    "scaled_quant = quantile_transformer.fit_transform(scaled)\n",
    "scaled_quant_df = pd.DataFrame(scaled_quant, columns=scaled.columns)"
   ]
  },
  {
   "cell_type": "code",
   "execution_count": 51,
   "metadata": {},
   "outputs": [
    {
     "data": {
      "text/plain": [
       "dist_to_bigben_transformed    9.705297e-01\n",
       "dist_to_bigben                6.160737e-01\n",
       "accommodates                  2.424197e-23\n",
       "maximum_nights                4.573937e-36\n",
       "cleaning_fee                  3.989241e-36\n",
       "number_of_reviews             3.796188e-36\n",
       "minimum_nights                1.194736e-36\n",
       "beds                          1.084348e-38\n",
       "security_deposit              3.706593e-39\n",
       "bathrooms                     3.662013e-41\n",
       "bedrooms                      5.025056e-42\n",
       "dtype: float64"
      ]
     },
     "execution_count": 51,
     "metadata": {},
     "output_type": "execute_result"
    }
   ],
   "source": [
    "scaled_quant_df.agg(check_normality).sort_values(ascending=False)"
   ]
  },
  {
   "cell_type": "code",
   "execution_count": 54,
   "metadata": {},
   "outputs": [
    {
     "data": {
      "image/png": "[encoded data removed]",
      "text/plain": [
       "<Figure size 432x288 with 1 Axes>"
      ]
     },
     "metadata": {
      "needs_background": "light"
     },
     "output_type": "display_data"
    }
   ],
   "source": [
    "scaled_quant_df[\"dist_to_bigben\"].hist(bins=20)\n",
    "plt.show()"
   ]
  },
  {
   "cell_type": "code",
   "execution_count": 55,
   "metadata": {},
   "outputs": [
    {
     "data": {
      "image/png": "[encoded data removed]",
      "text/plain": [
       "<Figure size 432x288 with 1 Axes>"
      ]
     },
     "metadata": {
      "needs_background": "light"
     },
     "output_type": "display_data"
    }
   ],
   "source": [
    "scaled_quant_df[\"cleaning_fee\"].hist(bins=20)\n",
    "plt.show()"
   ]
  },
  {
   "cell_type": "markdown",
   "metadata": {},
   "source": [
    "Aside from the \"dist_to_bigben\" feature, unfortunately, using both powertransform and quantiletransform did not result in a good transformation to normal distribution for most of these scaled features. Nevertheless, we will test these in our model."
   ]
  },
  {
   "cell_type": "code",
   "execution_count": 56,
   "metadata": {},
   "outputs": [],
   "source": [
    "X = pd.concat([ohe, scaled_quant_df], axis=1)\n",
    "y = df[\"price\"]"
   ]
  },
  {
   "cell_type": "code",
   "execution_count": 58,
   "metadata": {},
   "outputs": [
    {
     "name": "stdout",
     "output_type": "stream",
     "text": [
      "SGD Regression\n",
      "Training Score: 0.4220883743393836\n",
      "Testing Score: 0.4124481518512485\n",
      "RMSE: 79.45742306575083\n",
      "Wall time: 1.06 s\n"
     ]
    }
   ],
   "source": [
    "%%time\n",
    "lr = build_and_train_model(X, y, SGDR_model)"
   ]
  },
  {
   "cell_type": "code",
   "execution_count": 61,
   "metadata": {},
   "outputs": [
    {
     "name": "stderr",
     "output_type": "stream",
     "text": [
      "WARNING:matplotlib.legend:No handles with labels found to put in legend.\n"
     ]
    },
    {
     "data": {
      "image/png": "[encoded data removed]",
      "text/plain": [
       "<Figure size 576x504 with 1 Axes>"
      ]
     },
     "metadata": {
      "needs_background": "light"
     },
     "output_type": "display_data"
    },
    {
     "name": "stdout",
     "output_type": "stream",
     "text": [
      "Wall time: 5.51 s\n"
     ]
    }
   ],
   "source": [
    "%%time\n",
    "plot_learning_curves(X, y, sgdr, \n",
    "                     \"SGD Regression Model\")"
   ]
  },
  {
   "cell_type": "markdown",
   "metadata": {},
   "source": [
    "We can see a slight performance hit by transforming non-normal data to normal. There is still high bias (underfitting) present at low training size, but both the training and validation scores increase with increasing sample size, indicating the model is able to learn with more data with low variance and low bias.\n",
    "\n",
    "It seems the stochastic gradient descent linear regression model has reached its limit, so we will try other models. Although we do not expect much signal to be squeezed out since most of the features simply do not correlate very well with the listing price."
   ]
  },
  {
   "cell_type": "markdown",
   "metadata": {},
   "source": [
    "### Applying Principle Component Analysis\n",
    "\n",
    "This is just to identify which features explain the most variance in the data. It will not be used for model training."
   ]
  },
  {
   "cell_type": "code",
   "execution_count": 62,
   "metadata": {},
   "outputs": [],
   "source": [
    "from sklearn.decomposition import PCA\n",
    "\n",
    "def apply_pca(X, n, add_constant=False):\n",
    "    pca = PCA(n_components = n)\n",
    "    x_new = pca.fit_transform(X)\n",
    "    if add_constant is True:\n",
    "        x_new = sm.add_constant(x_new)\n",
    "    return pca, pd.DataFrame(x_new)"
   ]
  },
  {
   "cell_type": "code",
   "execution_count": 63,
   "metadata": {},
   "outputs": [
    {
     "name": "stdout",
     "output_type": "stream",
     "text": [
      "Explained variance: [0.33647916 0.17734673 0.15392215 0.1058665  0.06559772 0.03953011]\n"
     ]
    }
   ],
   "source": [
    "pca, _ = apply_pca(X.drop(\"price\", axis=1), 6)\n",
    "print(\"Explained variance:\", pca.explained_variance_ratio_)"
   ]
  },
  {
   "cell_type": "code",
   "execution_count": 64,
   "metadata": {},
   "outputs": [
    {
     "data": {
      "image/png": "[encoded data removed]",
      "text/plain": [
       "<Figure size 432x288 with 1 Axes>"
      ]
     },
     "metadata": {
      "needs_background": "light"
     },
     "output_type": "display_data"
    }
   ],
   "source": [
    "plt.plot(np.cumsum(pca.explained_variance_ratio_))\n",
    "plt.xlabel(\"n_components\")\n",
    "plt.ylabel(\"cumulative variance\")\n",
    "plt.show()"
   ]
  },
  {
   "cell_type": "markdown",
   "metadata": {},
   "source": [
    "So it seems just 10 components explains more than 90% of the variance in the data"
   ]
  },
  {
   "cell_type": "code",
   "execution_count": 65,
   "metadata": {},
   "outputs": [
    {
     "data": {
      "text/html": [
       "<div>\n",
       "<style scoped>\n",
       "    .dataframe tbody tr th:only-of-type {\n",
       "        vertical-align: middle;\n",
       "    }\n",
       "\n",
       "    .dataframe tbody tr th {\n",
       "        vertical-align: top;\n",
       "    }\n",
       "\n",
       "    .dataframe thead th {\n",
       "        text-align: right;\n",
       "    }\n",
       "</style>\n",
       "<table border=\"1\" class=\"dataframe\">\n",
       "  <thead>\n",
       "    <tr style=\"text-align: right;\">\n",
       "      <th></th>\n",
       "      <th>no pets</th>\n",
       "      <th>no friends</th>\n",
       "      <th>no parties</th>\n",
       "      <th>no smoking</th>\n",
       "      <th>room_type_Private room</th>\n",
       "      <th>room_type_Shared room</th>\n",
       "      <th>property_type_Apartment</th>\n",
       "      <th>property_type_Barn</th>\n",
       "      <th>property_type_Bed and breakfast</th>\n",
       "      <th>property_type_Boat</th>\n",
       "      <th>...</th>\n",
       "      <th>bathrooms</th>\n",
       "      <th>bedrooms</th>\n",
       "      <th>beds</th>\n",
       "      <th>number_of_reviews</th>\n",
       "      <th>security_deposit</th>\n",
       "      <th>cleaning_fee</th>\n",
       "      <th>dist_to_bigben</th>\n",
       "      <th>dist_to_bigben_transformed</th>\n",
       "      <th>minimum_nights</th>\n",
       "      <th>maximum_nights</th>\n",
       "    </tr>\n",
       "  </thead>\n",
       "  <tbody>\n",
       "    <tr>\n",
       "      <th>pc-1</th>\n",
       "      <td>0.009800</td>\n",
       "      <td>-0.000076</td>\n",
       "      <td>0.022358</td>\n",
       "      <td>0.010915</td>\n",
       "      <td>-0.059362</td>\n",
       "      <td>-0.002128</td>\n",
       "      <td>0.014307</td>\n",
       "      <td>-0.000013</td>\n",
       "      <td>-0.002523</td>\n",
       "      <td>-0.000059</td>\n",
       "      <td>...</td>\n",
       "      <td>0.051075</td>\n",
       "      <td>0.097483</td>\n",
       "      <td>0.092731</td>\n",
       "      <td>0.174731</td>\n",
       "      <td>0.699216</td>\n",
       "      <td>0.592798</td>\n",
       "      <td>0.008668</td>\n",
       "      <td>-0.003578</td>\n",
       "      <td>0.301271</td>\n",
       "      <td>0.022806</td>\n",
       "    </tr>\n",
       "    <tr>\n",
       "      <th>pc-2</th>\n",
       "      <td>-0.001137</td>\n",
       "      <td>0.000002</td>\n",
       "      <td>-0.001946</td>\n",
       "      <td>-0.006743</td>\n",
       "      <td>-0.020859</td>\n",
       "      <td>-0.001103</td>\n",
       "      <td>0.001187</td>\n",
       "      <td>-0.000014</td>\n",
       "      <td>-0.001078</td>\n",
       "      <td>-0.000060</td>\n",
       "      <td>...</td>\n",
       "      <td>0.022704</td>\n",
       "      <td>0.054547</td>\n",
       "      <td>0.027496</td>\n",
       "      <td>-0.396363</td>\n",
       "      <td>-0.164296</td>\n",
       "      <td>-0.158653</td>\n",
       "      <td>-0.005186</td>\n",
       "      <td>-0.013021</td>\n",
       "      <td>0.886310</td>\n",
       "      <td>-0.008256</td>\n",
       "    </tr>\n",
       "    <tr>\n",
       "      <th>pc-3</th>\n",
       "      <td>0.007039</td>\n",
       "      <td>-0.000160</td>\n",
       "      <td>0.005082</td>\n",
       "      <td>-0.009065</td>\n",
       "      <td>-0.006698</td>\n",
       "      <td>0.000879</td>\n",
       "      <td>-0.010307</td>\n",
       "      <td>0.000037</td>\n",
       "      <td>0.000384</td>\n",
       "      <td>-0.000042</td>\n",
       "      <td>...</td>\n",
       "      <td>0.025207</td>\n",
       "      <td>0.043077</td>\n",
       "      <td>0.033891</td>\n",
       "      <td>-0.828661</td>\n",
       "      <td>0.437053</td>\n",
       "      <td>-0.129266</td>\n",
       "      <td>0.010912</td>\n",
       "      <td>-0.005982</td>\n",
       "      <td>-0.317410</td>\n",
       "      <td>0.013844</td>\n",
       "    </tr>\n",
       "    <tr>\n",
       "      <th>pc-4</th>\n",
       "      <td>-0.000883</td>\n",
       "      <td>0.000118</td>\n",
       "      <td>-0.004042</td>\n",
       "      <td>0.011845</td>\n",
       "      <td>0.026961</td>\n",
       "      <td>0.000272</td>\n",
       "      <td>-0.007154</td>\n",
       "      <td>-0.000012</td>\n",
       "      <td>0.001028</td>\n",
       "      <td>0.000037</td>\n",
       "      <td>...</td>\n",
       "      <td>-0.042549</td>\n",
       "      <td>-0.085407</td>\n",
       "      <td>-0.082198</td>\n",
       "      <td>0.338122</td>\n",
       "      <td>0.536141</td>\n",
       "      <td>-0.745902</td>\n",
       "      <td>-0.002151</td>\n",
       "      <td>0.016043</td>\n",
       "      <td>0.127696</td>\n",
       "      <td>-0.030905</td>\n",
       "    </tr>\n",
       "    <tr>\n",
       "      <th>pc-5</th>\n",
       "      <td>-0.007305</td>\n",
       "      <td>0.000098</td>\n",
       "      <td>-0.009534</td>\n",
       "      <td>-0.003899</td>\n",
       "      <td>0.052575</td>\n",
       "      <td>-0.000823</td>\n",
       "      <td>0.046326</td>\n",
       "      <td>0.000066</td>\n",
       "      <td>-0.000011</td>\n",
       "      <td>-0.000030</td>\n",
       "      <td>...</td>\n",
       "      <td>-0.239717</td>\n",
       "      <td>-0.761361</td>\n",
       "      <td>-0.439369</td>\n",
       "      <td>-0.100962</td>\n",
       "      <td>0.061651</td>\n",
       "      <td>0.198867</td>\n",
       "      <td>-0.033207</td>\n",
       "      <td>-0.015515</td>\n",
       "      <td>0.073304</td>\n",
       "      <td>-0.009290</td>\n",
       "    </tr>\n",
       "    <tr>\n",
       "      <th>pc-6</th>\n",
       "      <td>0.005424</td>\n",
       "      <td>0.000090</td>\n",
       "      <td>-0.001934</td>\n",
       "      <td>0.000957</td>\n",
       "      <td>-0.012615</td>\n",
       "      <td>-0.000894</td>\n",
       "      <td>-0.017030</td>\n",
       "      <td>-0.000030</td>\n",
       "      <td>0.002311</td>\n",
       "      <td>0.000106</td>\n",
       "      <td>...</td>\n",
       "      <td>0.003655</td>\n",
       "      <td>-0.056180</td>\n",
       "      <td>0.012160</td>\n",
       "      <td>-0.008498</td>\n",
       "      <td>-0.010663</td>\n",
       "      <td>0.007312</td>\n",
       "      <td>0.704287</td>\n",
       "      <td>0.696665</td>\n",
       "      <td>0.012349</td>\n",
       "      <td>0.002795</td>\n",
       "    </tr>\n",
       "  </tbody>\n",
       "</table>\n",
       "<p>6 rows × 92 columns</p>\n",
       "</div>"
      ],
      "text/plain": [
       "       no pets  no friends  no parties  no smoking  room_type_Private room  \\\n",
       "pc-1  0.009800   -0.000076    0.022358    0.010915               -0.059362   \n",
       "pc-2 -0.001137    0.000002   -0.001946   -0.006743               -0.020859   \n",
       "pc-3  0.007039   -0.000160    0.005082   -0.009065               -0.006698   \n",
       "pc-4 -0.000883    0.000118   -0.004042    0.011845                0.026961   \n",
       "pc-5 -0.007305    0.000098   -0.009534   -0.003899                0.052575   \n",
       "pc-6  0.005424    0.000090   -0.001934    0.000957               -0.012615   \n",
       "\n",
       "      room_type_Shared room  property_type_Apartment  property_type_Barn  \\\n",
       "pc-1              -0.002128                 0.014307           -0.000013   \n",
       "pc-2              -0.001103                 0.001187           -0.000014   \n",
       "pc-3               0.000879                -0.010307            0.000037   \n",
       "pc-4               0.000272                -0.007154           -0.000012   \n",
       "pc-5              -0.000823                 0.046326            0.000066   \n",
       "pc-6              -0.000894                -0.017030           -0.000030   \n",
       "\n",
       "      property_type_Bed and breakfast  property_type_Boat  ...  bathrooms  \\\n",
       "pc-1                        -0.002523           -0.000059  ...   0.051075   \n",
       "pc-2                        -0.001078           -0.000060  ...   0.022704   \n",
       "pc-3                         0.000384           -0.000042  ...   0.025207   \n",
       "pc-4                         0.001028            0.000037  ...  -0.042549   \n",
       "pc-5                        -0.000011           -0.000030  ...  -0.239717   \n",
       "pc-6                         0.002311            0.000106  ...   0.003655   \n",
       "\n",
       "      bedrooms      beds  number_of_reviews  security_deposit  cleaning_fee  \\\n",
       "pc-1  0.097483  0.092731           0.174731          0.699216      0.592798   \n",
       "pc-2  0.054547  0.027496          -0.396363         -0.164296     -0.158653   \n",
       "pc-3  0.043077  0.033891          -0.828661          0.437053     -0.129266   \n",
       "pc-4 -0.085407 -0.082198           0.338122          0.536141     -0.745902   \n",
       "pc-5 -0.761361 -0.439369          -0.100962          0.061651      0.198867   \n",
       "pc-6 -0.056180  0.012160          -0.008498         -0.010663      0.007312   \n",
       "\n",
       "      dist_to_bigben  dist_to_bigben_transformed  minimum_nights  \\\n",
       "pc-1        0.008668                   -0.003578        0.301271   \n",
       "pc-2       -0.005186                   -0.013021        0.886310   \n",
       "pc-3        0.010912                   -0.005982       -0.317410   \n",
       "pc-4       -0.002151                    0.016043        0.127696   \n",
       "pc-5       -0.033207                   -0.015515        0.073304   \n",
       "pc-6        0.704287                    0.696665        0.012349   \n",
       "\n",
       "      maximum_nights  \n",
       "pc-1        0.022806  \n",
       "pc-2       -0.008256  \n",
       "pc-3        0.013844  \n",
       "pc-4       -0.030905  \n",
       "pc-5       -0.009290  \n",
       "pc-6        0.002795  \n",
       "\n",
       "[6 rows x 92 columns]"
      ]
     },
     "execution_count": 65,
     "metadata": {},
     "output_type": "execute_result"
    }
   ],
   "source": [
    "pd.DataFrame(pca.components_, \n",
    "             columns=X.drop(\"price\", axis=1).columns, \n",
    "            index=[\"pc-1\", \"pc-2\", \"pc-3\", \"pc-4\", \"pc-5\", \"pc-6\"]) "
   ]
  },
  {
   "cell_type": "markdown",
   "metadata": {},
   "source": [
    "Get the index of the most important feature for each principal component row based on the largest absolute value"
   ]
  },
  {
   "cell_type": "code",
   "execution_count": 66,
   "metadata": {},
   "outputs": [
    {
     "data": {
      "text/html": [
       "<div>\n",
       "<style scoped>\n",
       "    .dataframe tbody tr th:only-of-type {\n",
       "        vertical-align: middle;\n",
       "    }\n",
       "\n",
       "    .dataframe tbody tr th {\n",
       "        vertical-align: top;\n",
       "    }\n",
       "\n",
       "    .dataframe thead th {\n",
       "        text-align: right;\n",
       "    }\n",
       "</style>\n",
       "<table border=\"1\" class=\"dataframe\">\n",
       "  <thead>\n",
       "    <tr style=\"text-align: right;\">\n",
       "      <th></th>\n",
       "      <th>PC</th>\n",
       "      <th>FEATURES</th>\n",
       "    </tr>\n",
       "  </thead>\n",
       "  <tbody>\n",
       "    <tr>\n",
       "      <th>0</th>\n",
       "      <td>PC-1</td>\n",
       "      <td>security_deposit</td>\n",
       "    </tr>\n",
       "    <tr>\n",
       "      <th>1</th>\n",
       "      <td>PC-2</td>\n",
       "      <td>minimum_nights</td>\n",
       "    </tr>\n",
       "    <tr>\n",
       "      <th>2</th>\n",
       "      <td>PC-3</td>\n",
       "      <td>number_of_reviews</td>\n",
       "    </tr>\n",
       "    <tr>\n",
       "      <th>3</th>\n",
       "      <td>PC-4</td>\n",
       "      <td>cleaning_fee</td>\n",
       "    </tr>\n",
       "    <tr>\n",
       "      <th>4</th>\n",
       "      <td>PC-5</td>\n",
       "      <td>bedrooms</td>\n",
       "    </tr>\n",
       "    <tr>\n",
       "      <th>5</th>\n",
       "      <td>PC-6</td>\n",
       "      <td>dist_to_bigben</td>\n",
       "    </tr>\n",
       "  </tbody>\n",
       "</table>\n",
       "</div>"
      ],
      "text/plain": [
       "     PC           FEATURES\n",
       "0  PC-1   security_deposit\n",
       "1  PC-2     minimum_nights\n",
       "2  PC-3  number_of_reviews\n",
       "3  PC-4       cleaning_fee\n",
       "4  PC-5           bedrooms\n",
       "5  PC-6     dist_to_bigben"
      ]
     },
     "execution_count": 66,
     "metadata": {},
     "output_type": "execute_result"
    }
   ],
   "source": [
    "most_important = [np.abs(pca.components_[i]).argmax() for i in range(6)]\n",
    "most_important_names = [X.drop(\"price\", axis=1).columns[most_important[i]] for i in range(6)]\n",
    "dic = {'PC-{}'.format(i+1): most_important_names[i] for i in range(6)}\n",
    "pc = pd.DataFrame(sorted(dic.items()), columns=[\"PC\", \"FEATURES\"])\n",
    "pc"
   ]
  },
  {
   "cell_type": "markdown",
   "metadata": {},
   "source": [
    "## Implementing Gradient Boosting Regressor model"
   ]
  },
  {
   "cell_type": "code",
   "execution_count": 87,
   "metadata": {},
   "outputs": [],
   "source": [
    "from sklearn.ensemble import GradientBoostingRegressor\n",
    "from sklearn.model_selection import GridSearchCV"
   ]
  },
  {
   "cell_type": "code",
   "execution_count": 88,
   "metadata": {},
   "outputs": [],
   "source": [
    "X = pd.concat([ohe, scaled_quant_df], axis=1)\n",
    "y = df[\"price\"]"
   ]
  },
  {
   "cell_type": "code",
   "execution_count": 99,
   "metadata": {},
   "outputs": [],
   "source": [
    "def gbr_model():\n",
    "    \"\"\"\n",
    "    Gradient Boosting Regressor with Grid Seach CV.\n",
    "    \n",
    "    Note: This is extremely computationally intensive hence\n",
    "          parameters have been hardcoded for now.\n",
    "    \n",
    "    n_estimators: Number of weak learners (small decision trees)\n",
    "    max_depth: The maximum depth of each individual decision tree\n",
    "    min_samples_split: A decision tree node should have at least x samples before it is split\n",
    "    learning_rate: Scales output of each decision tree model by a constant learning rate (shrinkage).                    \n",
    "    loss: loss function to be optimised (least squares)\n",
    "    \n",
    "    Returns GBR model \n",
    "    \"\"\"\n",
    "    num_estimators = [100]\n",
    "    learn_rates = [0.1]\n",
    "    max_depths = [5]\n",
    "    \n",
    "    params = {\"n_estimators\" : num_estimators,\n",
    "              \"max_depth\" : max_depths,\n",
    "              \"learning_rate\" : learn_rates\n",
    "             }\n",
    "    \n",
    "    gbr_model = GridSearchCV(GradientBoostingRegressor(min_samples_split=2, loss=\"ls\"),\n",
    "                             params, return_train_score=True\n",
    "                            )\n",
    "    \n",
    "    return gbr_model"
   ]
  },
  {
   "cell_type": "code",
   "execution_count": 100,
   "metadata": {},
   "outputs": [
    {
     "name": "stdout",
     "output_type": "stream",
     "text": [
      "Training Score: 0.6239331857765287\n",
      "Testing Score: 0.5609262737254702\n",
      "RMSE: 68.68787847968943\n",
      "Wall time: 1min 38s\n"
     ]
    }
   ],
   "source": [
    "%%time\n",
    "gbr = build_and_train_model(X, y, gbr_model)"
   ]
  },
  {
   "cell_type": "code",
   "execution_count": 101,
   "metadata": {},
   "outputs": [
    {
     "name": "stderr",
     "output_type": "stream",
     "text": [
      "WARNING:matplotlib.legend:No handles with labels found to put in legend.\n"
     ]
    },
    {
     "data": {
      "image/png": "[encoded data removed]",
      "text/plain": [
       "<Figure size 576x504 with 1 Axes>"
      ]
     },
     "metadata": {
      "needs_background": "light"
     },
     "output_type": "display_data"
    },
    {
     "name": "stdout",
     "output_type": "stream",
     "text": [
      "Wall time: 3min 39s\n"
     ]
    }
   ],
   "source": [
    "%%time\n",
    "plot_learning_curves(X, y, gbr_model(), \"Gradient Boosting Regression Model\")"
   ]
  },
  {
   "cell_type": "markdown",
   "metadata": {},
   "source": [
    "The GBR model clearly outperforms the SGDR model with its low RMSE and higher R^2. However, this model seems to suffer from high variance and bias and low training size. The hyperparameters need to be adjusted, but gradient boosting is very computationally intensive on my current system, hence further training will not be attempted further."
   ]
  },
  {
   "cell_type": "markdown",
   "metadata": {},
   "source": [
    "### Most important features of Gradient Boosting Model"
   ]
  },
  {
   "cell_type": "code",
   "execution_count": 147,
   "metadata": {},
   "outputs": [
    {
     "data": {
      "image/png": "[encoded data removed]",
      "text/plain": [
       "<Figure size 864x720 with 1 Axes>"
      ]
     },
     "metadata": {
      "needs_background": "light"
     },
     "output_type": "display_data"
    }
   ],
   "source": [
    "# Plot feature importance \n",
    "feature_importance = gbr[\"model\"].best_estimator_.feature_importances_\n",
    "feature_importance = 100.0 * (feature_importance / feature_importance.max())\n",
    "sorted_idx = np.argsort(feature_importance)\n",
    "pos = np.arange(sorted_idx.shape[0]) + 0.5\n",
    "plt.figure(figsize=(12,10))\n",
    "plt.subplot(1, 2, 2)\n",
    "pos = pos[::-1][0:10]\n",
    "sorted_idx = sorted_idx[::-1][0:10]\n",
    "plt.barh(pos, feature_importance[sorted_idx], align='center', color=\"g\", alpha=0.5)\n",
    "plt.yticks(pos, X.drop(\"price\",axis=1).columns[sorted_idx], fontsize=14)\n",
    "plt.xlabel('Relative Importance', fontsize=14)\n",
    "plt.title('Variable Importance', fontsize=16)\n",
    "plt.show()"
   ]
  },
  {
   "cell_type": "markdown",
   "metadata": {},
   "source": [
    "## Summary of models\n",
    "\n",
    "### Comparison of model metrics\n",
    "\n",
    "| Model | Train score | Test score | RMSE |\n",
    "| --- | --- | --- | --- |\n",
    "| SGD Regressor | 0.42 | 0.41 | 79.45 |\n",
    "| Gradient Boosting Regressor | 0.62 | 0.56 | 68.68 |\n"
   ]
  },
  {
   "cell_type": "markdown",
   "metadata": {},
   "source": [
    "The GBR model clearly outperforms the SGDR model as can be seen in the table above. We achieved a relevatively low RMSE of 68.68, which is much lower compared to another benchmark for this project [[1]](https://www.dataquest.io/blog/machine-learning-tutorial/). For both models, the cross validation score increases with training size indicating that the model is able to learn only with increasing training sample size. Based on the learning curves for the GBR model, we can see there is high variance at low training size indicating overfitting. This means we may need to reduce the number of weak learners, max depth and the learning rate. This can be done using GridSearchCV, but it is extremely computationally intensive. \n",
    "\n",
    "The low R^2 score in general seems to indicate our model is just not complex enough with the current set of features. We may need to engineer more features using techniques like NLP as there are a lot more categorical features in the original raw dataset. Furthermore, there were also image URLS for each of the listings (which were removed in the clean dataset), and computer vision techniques could potentially be used to extract the most common color palette which might have an affect on the price. However, these techniques are generally very computationally intensive and may need access to a high performance local or cloud computing cluster."
   ]
  },
  {
   "cell_type": "code",
   "execution_count": null,
   "metadata": {},
   "outputs": [],
   "source": []
  }
 ],
 "metadata": {
  "kernelspec": {
   "display_name": "Python 3",
   "language": "python",
   "name": "python3"
  },
  "language_info": {
   "codemirror_mode": {
    "name": "ipython",
    "version": 3
   },
   "file_extension": ".py",
   "mimetype": "text/x-python",
   "name": "python",
   "nbconvert_exporter": "python",
   "pygments_lexer": "ipython3",
   "version": "3.7.3"
  }
 },
 "nbformat": 4,
 "nbformat_minor": 2
}
